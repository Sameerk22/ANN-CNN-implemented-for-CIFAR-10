{
  "cells": [
    {
      "cell_type": "code",
      "execution_count": null,
      "metadata": {
        "id": "JTgA4yl3sDkH"
      },
      "outputs": [],
      "source": []
    },
    {
      "cell_type": "code",
      "execution_count": 1,
      "metadata": {
        "id": "QhvucQi8rjAp"
      },
      "outputs": [],
      "source": [
        "import numpy as np\n",
        "import os\n",
        "import pandas as pd\n",
        "from keras.utils import np_utils\n",
        "from keras.models import Sequential\n",
        "from keras.layers import Dense\n",
        "from sklearn.model_selection import train_test_split\n"
      ]
    },
    {
      "cell_type": "code",
      "source": [
        "from keras.layers.convolutional import MaxPooling2D\n",
        "from keras.layers import Dropout\n",
        "from keras.constraints import maxnorm\n",
        "from keras.layers import activation"
      ],
      "metadata": {
        "id": "lIBjEzJ-tm8M"
      },
      "execution_count": 2,
      "outputs": []
    },
    {
      "cell_type": "code",
      "execution_count": 3,
      "metadata": {
        "id": "mK2rlMqqrlN-"
      },
      "outputs": [],
      "source": [
        "file = \"/content/drive/MyDrive/cifar-10-batches-py/\""
      ]
    },
    {
      "cell_type": "code",
      "execution_count": 4,
      "metadata": {
        "id": "lMFXqelTsAgz"
      },
      "outputs": [],
      "source": [
        "def unpickle(file):\n",
        "    import pickle\n",
        "    with open(file, 'rb') as fo:\n",
        "        dict = pickle.load(fo, encoding='bytes')\n",
        "    return dict"
      ]
    },
    {
      "cell_type": "code",
      "execution_count": 5,
      "metadata": {
        "id": "jiOEeNDZsFNc"
      },
      "outputs": [],
      "source": [
        "def load_batch_file(batch_filename):\n",
        "    filepath = os.path.join(file, batch_filename)\n",
        "    unpickled = unpickle(filepath)\n",
        "    return unpickled"
      ]
    },
    {
      "cell_type": "code",
      "execution_count": 6,
      "metadata": {
        "id": "MNCohiz4sG4y"
      },
      "outputs": [],
      "source": [
        "train_batch_1 = load_batch_file('data_batch_1')\n",
        "train_batch_2 = load_batch_file('data_batch_2')\n",
        "train_batch_3 = load_batch_file('data_batch_3')\n",
        "train_batch_4 = load_batch_file('data_batch_4')\n",
        "train_batch_5 = load_batch_file('data_batch_5')\n",
        "test_batch = load_batch_file('test_batch')"
      ]
    },
    {
      "cell_type": "markdown",
      "metadata": {
        "id": "m9bJny8VsKy4"
      },
      "source": [
        "Concatinating all test batch data"
      ]
    },
    {
      "cell_type": "code",
      "execution_count": 7,
      "metadata": {
        "id": "uPKVjPC1sG_x"
      },
      "outputs": [],
      "source": [
        "num_classes = 10\n",
        "Total_train_x = np.concatenate([train_batch_1[b'data'], train_batch_2[b'data'], train_batch_3[b'data'], train_batch_4[b'data'], train_batch_5[b'data']])\n",
        "Total_train_x = Total_train_x.astype('float32') # this is necessary for the division below\n",
        "Total_train_x /= 255\n",
        "Total_train_y = np.concatenate([np_utils.to_categorical(labels, num_classes) for labels in [train_batch_1[b'labels'], train_batch_2[b'labels'], train_batch_3[b'labels'], train_batch_4[b'labels'], train_batch_5[b'labels']]])"
      ]
    },
    {
      "cell_type": "code",
      "source": [
        "Total_train_y.shape"
      ],
      "metadata": {
        "colab": {
          "base_uri": "https://localhost:8080/"
        },
        "id": "cXnYk22Ux56T",
        "outputId": "42a423d3-0a54-4015-dcab-701288c78f83"
      },
      "execution_count": null,
      "outputs": [
        {
          "output_type": "execute_result",
          "data": {
            "text/plain": [
              "(50000, 10)"
            ]
          },
          "metadata": {},
          "execution_count": 8
        }
      ]
    },
    {
      "cell_type": "code",
      "source": [
        "x_train,x_val,y_train,y_val=train_test_split(Total_train_x,Total_train_y,test_size=0.2)\n"
      ],
      "metadata": {
        "id": "3mjd3phTpKZL"
      },
      "execution_count": 11,
      "outputs": []
    },
    {
      "cell_type": "code",
      "source": [
        "Total_train_x.shape\n",
        "Total_train_y.shape"
      ],
      "metadata": {
        "colab": {
          "base_uri": "https://localhost:8080/"
        },
        "id": "tdE82T6xrA8p",
        "outputId": "965e8777-6775-42b3-c005-0af0283053e3"
      },
      "execution_count": null,
      "outputs": [
        {
          "output_type": "execute_result",
          "data": {
            "text/plain": [
              "(50000, 10)"
            ]
          },
          "metadata": {},
          "execution_count": 10
        }
      ]
    },
    {
      "cell_type": "code",
      "source": [
        "x_train.shape\n",
        "y_train.shape"
      ],
      "metadata": {
        "colab": {
          "base_uri": "https://localhost:8080/"
        },
        "id": "1GWr5OA9rHMv",
        "outputId": "9963cae3-a78b-47b5-a5db-ea04e5f8de04"
      },
      "execution_count": null,
      "outputs": [
        {
          "output_type": "execute_result",
          "data": {
            "text/plain": [
              "(40000, 10)"
            ]
          },
          "metadata": {},
          "execution_count": 10
        }
      ]
    },
    {
      "cell_type": "code",
      "source": [
        "x_val.shape"
      ],
      "metadata": {
        "colab": {
          "base_uri": "https://localhost:8080/"
        },
        "id": "naMni6n81eis",
        "outputId": "3af52d5a-272d-491b-a43d-6593cdc1ff1b"
      },
      "execution_count": null,
      "outputs": [
        {
          "output_type": "execute_result",
          "data": {
            "text/plain": [
              "(10000, 3072)"
            ]
          },
          "metadata": {},
          "execution_count": 11
        }
      ]
    },
    {
      "cell_type": "code",
      "source": [
        "\n",
        "y_val.shape"
      ],
      "metadata": {
        "colab": {
          "base_uri": "https://localhost:8080/"
        },
        "id": "EqvwDAZArOTI",
        "outputId": "698e3e8c-ca3b-47c1-bdcf-c277389bd1b4"
      },
      "execution_count": null,
      "outputs": [
        {
          "output_type": "execute_result",
          "data": {
            "text/plain": [
              "(10000, 10)"
            ]
          },
          "metadata": {},
          "execution_count": 12
        }
      ]
    },
    {
      "cell_type": "markdown",
      "metadata": {
        "id": "X0PvZDeisRD5"
      },
      "source": [
        "**Test batch data**"
      ]
    },
    {
      "cell_type": "code",
      "execution_count": 12,
      "metadata": {
        "id": "0E_W0YLusKdE"
      },
      "outputs": [],
      "source": [
        "test_x = test_batch[b'data'].astype('float32') / 255\n",
        "test_y = np_utils.to_categorical(test_batch[b'labels'], num_classes)"
      ]
    },
    {
      "cell_type": "code",
      "execution_count": 13,
      "metadata": {
        "id": "OA4xmG0RsU-e"
      },
      "outputs": [],
      "source": [
        "img_rows = img_cols = 32\n",
        "channels = 3"
      ]
    },
    {
      "cell_type": "markdown",
      "metadata": {
        "id": "pTq7iLyYMQ8r"
      },
      "source": [
        "## **Neural Network training**"
      ]
    },
    {
      "cell_type": "code",
      "source": [],
      "metadata": {
        "id": "8QqVZ9RpxWJd"
      },
      "execution_count": null,
      "outputs": []
    },
    {
      "cell_type": "markdown",
      "source": [
        "**Technique#1** (Concatanating all data and then splitting to 20-80 for validation & training data)"
      ],
      "metadata": {
        "id": "PA-JVgheRKUa"
      }
    },
    {
      "cell_type": "code",
      "source": [
        "simple_model = Sequential()\n",
        "simple_model.add(Dense(10_000, input_shape=(img_rows*img_cols*channels,), activation='relu'))\n",
        "simple_model.add(Dense(1_000, activation='relu'))\n",
        "simple_model.add(Dense(500, activation='relu'))\n",
        "simple_model.add(Dense(250, activation='relu'))\n",
        "simple_model.add(Dense(100, activation='relu'))\n",
        "simple_model.add(Dense(10, activation='softmax'))\n",
        "\n",
        "simple_model.compile(optimizer='sgd', loss='categorical_crossentropy', metrics=['accuracy'])\n",
        "simple_model_history = simple_model.fit(x_train, y_train, batch_size=50, epochs=15, validation_data=(x_val, y_val))"
      ],
      "metadata": {
        "colab": {
          "base_uri": "https://localhost:8080/"
        },
        "id": "-Q6pRM04DpC2",
        "outputId": "256637d3-950f-4a7e-de5a-a0b3277f6ade"
      },
      "execution_count": null,
      "outputs": [
        {
          "output_type": "stream",
          "name": "stdout",
          "text": [
            "Epoch 1/15\n",
            "800/800 [==============================] - 244s 304ms/step - loss: 1.9131 - accuracy: 0.3073 - val_loss: 1.7479 - val_accuracy: 0.3695\n",
            "Epoch 2/15\n",
            "800/800 [==============================] - 240s 300ms/step - loss: 1.7040 - accuracy: 0.3921 - val_loss: 1.6306 - val_accuracy: 0.4249\n",
            "Epoch 3/15\n",
            "800/800 [==============================] - 239s 299ms/step - loss: 1.6111 - accuracy: 0.4284 - val_loss: 1.5739 - val_accuracy: 0.4307\n",
            "Epoch 4/15\n",
            "800/800 [==============================] - 239s 299ms/step - loss: 1.5441 - accuracy: 0.4507 - val_loss: 1.5304 - val_accuracy: 0.4500\n",
            "Epoch 5/15\n",
            "800/800 [==============================] - 240s 300ms/step - loss: 1.4895 - accuracy: 0.4710 - val_loss: 1.4963 - val_accuracy: 0.4651\n",
            "Epoch 6/15\n",
            "800/800 [==============================] - 240s 300ms/step - loss: 1.4393 - accuracy: 0.4909 - val_loss: 1.4529 - val_accuracy: 0.4881\n",
            "Epoch 7/15\n",
            "800/800 [==============================] - 240s 300ms/step - loss: 1.3988 - accuracy: 0.5035 - val_loss: 1.4426 - val_accuracy: 0.4790\n",
            "Epoch 8/15\n",
            "800/800 [==============================] - 239s 299ms/step - loss: 1.3608 - accuracy: 0.5176 - val_loss: 1.3986 - val_accuracy: 0.5026\n",
            "Epoch 9/15\n",
            "800/800 [==============================] - 239s 299ms/step - loss: 1.3221 - accuracy: 0.5311 - val_loss: 1.3984 - val_accuracy: 0.4967\n",
            "Epoch 10/15\n",
            "800/800 [==============================] - 240s 300ms/step - loss: 1.2859 - accuracy: 0.5460 - val_loss: 1.3980 - val_accuracy: 0.5013\n",
            "Epoch 11/15\n",
            "800/800 [==============================] - 240s 300ms/step - loss: 1.2516 - accuracy: 0.5583 - val_loss: 1.4241 - val_accuracy: 0.4934\n",
            "Epoch 12/15\n",
            "800/800 [==============================] - 240s 300ms/step - loss: 1.2135 - accuracy: 0.5699 - val_loss: 1.3971 - val_accuracy: 0.5040\n",
            "Epoch 13/15\n",
            "800/800 [==============================] - 240s 300ms/step - loss: 1.1846 - accuracy: 0.5803 - val_loss: 1.4161 - val_accuracy: 0.5034\n",
            "Epoch 14/15\n",
            "800/800 [==============================] - 256s 320ms/step - loss: 1.1484 - accuracy: 0.5929 - val_loss: 1.3810 - val_accuracy: 0.5115\n",
            "Epoch 15/15\n",
            "800/800 [==============================] - 246s 307ms/step - loss: 1.1159 - accuracy: 0.6043 - val_loss: 1.3461 - val_accuracy: 0.5216\n"
          ]
        }
      ]
    },
    {
      "cell_type": "code",
      "source": [
        "import matplotlib.pyplot as plt\n",
        "def plot_history(history, title):\n",
        "    plt.figure(figsize=(10,3))\n",
        "    # Plot training & validation accuracy values\n",
        "    plt.subplot(121)\n",
        "    plt.plot(history.history['accuracy'])\n",
        "    plt.plot(history.history['val_accuracy'])\n",
        "    plt.title('Model accuracy')\n",
        "    plt.ylabel('Accuracy')\n",
        "    plt.xlabel('Epoch')\n",
        "    plt.legend(['Train', 'Validation'], loc='upper left')\n",
        "\n",
        "    # Plot training & validation loss values\n",
        "    plt.subplot(122)\n",
        "    plt.plot(history.history['loss'])\n",
        "    plt.plot(history.history['val_loss'])\n",
        "    plt.title('Model loss')\n",
        "    plt.ylabel('Loss')\n",
        "    plt.xlabel('Epoch')\n",
        "    plt.legend(['Train', 'Validation'], loc='upper left')\n",
        "    plt.show()"
      ],
      "metadata": {
        "id": "_VC7X0sBpEjg"
      },
      "execution_count": null,
      "outputs": []
    },
    {
      "cell_type": "code",
      "source": [
        "plot_history(simple_model_history, 'Simple NN with batch size=50 epochs=15 ')"
      ],
      "metadata": {
        "colab": {
          "base_uri": "https://localhost:8080/",
          "height": 241
        },
        "id": "glNybEmJrH_C",
        "outputId": "f85fb1f2-55d9-4008-f548-6e3d483a8594"
      },
      "execution_count": null,
      "outputs": [
        {
          "output_type": "display_data",
          "data": {
            "text/plain": [
              "<Figure size 720x216 with 2 Axes>"
            ],
            "image/png": "[encoded data removed]"
          },
          "metadata": {
            "needs_background": "light"
          }
        }
      ]
    },
    {
      "cell_type": "markdown",
      "source": [
        "**Evaluating Accuracy through prediction on test data**"
      ],
      "metadata": {
        "id": "9Ag3FWtvrqN2"
      }
    },
    {
      "cell_type": "code",
      "source": [
        "simple_model.evaluate(test_x,test_y)"
      ],
      "metadata": {
        "colab": {
          "base_uri": "https://localhost:8080/"
        },
        "id": "rMyTIbGVrxOG",
        "outputId": "0054c5d8-eb75-446f-8128-335ad94ee0cf"
      },
      "execution_count": null,
      "outputs": [
        {
          "output_type": "stream",
          "name": "stdout",
          "text": [
            "313/313 [==============================] - 29s 92ms/step - loss: 1.3446 - accuracy: 0.5162\n"
          ]
        },
        {
          "output_type": "execute_result",
          "data": {
            "text/plain": [
              "[1.3446089029312134, 0.5162000060081482]"
            ]
          },
          "metadata": {},
          "execution_count": 28
        }
      ]
    },
    {
      "cell_type": "markdown",
      "source": [
        "## Time Taken by model to train = **3622 sec** = **60 mins**\n",
        "## **241 sec** => avg time of each epoch\n",
        "\n",
        "\n",
        "\n"
      ],
      "metadata": {
        "id": "oQ6-4v5XsnP2"
      }
    },
    {
      "cell_type": "markdown",
      "source": [
        "**TECHNIQUE # 2 (Cross validation)**"
      ],
      "metadata": {
        "id": "oJmmqeK9dkcF"
      }
    },
    {
      "cell_type": "code",
      "source": [
        "num_classes = 10\n",
        "Total_train_x = np.concatenate( [train_batch_2[b'data'], train_batch_3[b'data'], train_batch_4[b'data'], train_batch_5[b'data']])\n",
        "Total_train_x = Total_train_x.astype('float32') # this is necessary for the division below\n",
        "Total_train_x /= 255\n",
        "Total_train_y = np.concatenate([np_utils.to_categorical(labels, num_classes) for labels in [ train_batch_2[b'labels'], train_batch_3[b'labels'], train_batch_4[b'labels'], train_batch_5[b'labels']]])"
      ],
      "metadata": {
        "id": "p-vz40uGl1Gj"
      },
      "execution_count": null,
      "outputs": []
    },
    {
      "cell_type": "code",
      "source": [
        "x_val = np.concatenate([train_batch_1[b'data']])\n",
        "x_val = x_val.astype('float32')\n",
        "x_val /= 255 \n",
        "x_val.shape\n",
        "\n",
        "y_val = np_utils.to_categorical(train_batch_1[b'labels'], num_classes)\n",
        "# y_val"
      ],
      "metadata": {
        "id": "qgXVkuuldUAD"
      },
      "execution_count": null,
      "outputs": []
    },
    {
      "cell_type": "code",
      "source": [
        "test_x = test_batch[b'data'].astype('float32') / 255\n",
        "test_y = np_utils.to_categorical(test_batch[b'labels'], num_classes)"
      ],
      "metadata": {
        "id": "0eplzzoasFpl"
      },
      "execution_count": null,
      "outputs": []
    },
    {
      "cell_type": "code",
      "source": [
        "img_rows = img_cols = 32\n",
        "channels = 3"
      ],
      "metadata": {
        "id": "uV9u3AH7sFmr"
      },
      "execution_count": null,
      "outputs": []
    },
    {
      "cell_type": "code",
      "source": [
        "Total_train_x.shape\n"
      ],
      "metadata": {
        "colab": {
          "base_uri": "https://localhost:8080/"
        },
        "id": "TuRQRq2Hw926",
        "outputId": "19fd9d7f-ca01-49ab-bf53-1ea03e6cd1b2"
      },
      "execution_count": null,
      "outputs": [
        {
          "output_type": "execute_result",
          "data": {
            "text/plain": [
              "(40000, 3072)"
            ]
          },
          "metadata": {},
          "execution_count": 122
        }
      ]
    },
    {
      "cell_type": "code",
      "source": [
        "Total_train_y.shape"
      ],
      "metadata": {
        "colab": {
          "base_uri": "https://localhost:8080/"
        },
        "id": "sJpw72z3xED3",
        "outputId": "7fbb3d0c-65dd-4bae-8aa8-b5e0e9df3c5c"
      },
      "execution_count": null,
      "outputs": [
        {
          "output_type": "execute_result",
          "data": {
            "text/plain": [
              "(40000, 10)"
            ]
          },
          "metadata": {},
          "execution_count": 123
        }
      ]
    },
    {
      "cell_type": "code",
      "source": [
        "simple_model = Sequential()\n",
        "simple_model.add(Dense(10_000, input_shape=(img_rows*img_cols*channels,), activation='relu'))\n",
        "simple_model.add(Dense(1_000, activation='relu'))\n",
        "simple_model.add(Dense(500, activation='relu'))\n",
        "simple_model.add(Dense(250, activation='relu'))\n",
        "simple_model.add(Dense(100, activation='relu'))\n",
        "simple_model.add(Dense(10, activation='softmax'))\n",
        "\n",
        "simple_model.compile(optimizer='sgd', loss='categorical_crossentropy', metrics=['accuracy'])\n",
        "simple_model_history = simple_model.fit(Total_train_x, Total_train_y, batch_size=50, epochs=15, validation_data=(x_val, y_val))"
      ],
      "metadata": {
        "colab": {
          "base_uri": "https://localhost:8080/"
        },
        "id": "DAI9SqPTtOgA",
        "outputId": "cfd814a8-c87a-4d32-bbde-c0b28032e30a"
      },
      "execution_count": null,
      "outputs": [
        {
          "output_type": "stream",
          "name": "stdout",
          "text": [
            "Epoch 1/15\n",
            "800/800 [==============================] - 279s 305ms/step - loss: 1.9211 - accuracy: 0.3058 - val_loss: 1.7430 - val_accuracy: 0.3700\n",
            "Epoch 2/15\n",
            "800/800 [==============================] - 244s 305ms/step - loss: 1.7016 - accuracy: 0.3945 - val_loss: 1.6564 - val_accuracy: 0.4041\n",
            "Epoch 3/15\n",
            "800/800 [==============================] - 243s 304ms/step - loss: 1.6115 - accuracy: 0.4266 - val_loss: 1.6121 - val_accuracy: 0.4164\n",
            "Epoch 4/15\n",
            "800/800 [==============================] - 244s 305ms/step - loss: 1.5473 - accuracy: 0.4516 - val_loss: 1.5241 - val_accuracy: 0.4546\n",
            "Epoch 5/15\n",
            "800/800 [==============================] - 246s 308ms/step - loss: 1.4936 - accuracy: 0.4678 - val_loss: 1.4884 - val_accuracy: 0.4666\n",
            "Epoch 6/15\n",
            "800/800 [==============================] - 247s 309ms/step - loss: 1.4440 - accuracy: 0.4878 - val_loss: 1.4605 - val_accuracy: 0.4795\n",
            "Epoch 7/15\n",
            "800/800 [==============================] - 246s 307ms/step - loss: 1.4010 - accuracy: 0.5040 - val_loss: 1.4481 - val_accuracy: 0.4793\n",
            "Epoch 8/15\n",
            "800/800 [==============================] - 242s 303ms/step - loss: 1.3623 - accuracy: 0.5167 - val_loss: 1.4139 - val_accuracy: 0.4952\n",
            "Epoch 9/15\n",
            "800/800 [==============================] - 241s 301ms/step - loss: 1.3262 - accuracy: 0.5302 - val_loss: 1.4254 - val_accuracy: 0.4909\n",
            "Epoch 10/15\n",
            "800/800 [==============================] - 239s 299ms/step - loss: 1.2893 - accuracy: 0.5408 - val_loss: 1.4490 - val_accuracy: 0.4889\n",
            "Epoch 11/15\n",
            "800/800 [==============================] - 240s 300ms/step - loss: 1.2498 - accuracy: 0.5561 - val_loss: 1.4151 - val_accuracy: 0.5018\n",
            "Epoch 12/15\n",
            "800/800 [==============================] - 257s 321ms/step - loss: 1.2195 - accuracy: 0.5682 - val_loss: 1.3696 - val_accuracy: 0.5203\n",
            "Epoch 13/15\n",
            "800/800 [==============================] - 240s 301ms/step - loss: 1.1838 - accuracy: 0.5808 - val_loss: 1.3707 - val_accuracy: 0.5100\n",
            "Epoch 14/15\n",
            "800/800 [==============================] - 240s 300ms/step - loss: 1.1521 - accuracy: 0.5949 - val_loss: 1.3093 - val_accuracy: 0.5373\n",
            "Epoch 15/15\n",
            "800/800 [==============================] - 240s 300ms/step - loss: 1.1197 - accuracy: 0.6050 - val_loss: 1.3981 - val_accuracy: 0.5154\n"
          ]
        }
      ]
    },
    {
      "cell_type": "code",
      "source": [
        "simple_model.predict(test_x)"
      ],
      "metadata": {
        "colab": {
          "base_uri": "https://localhost:8080/"
        },
        "id": "QZys-Ai7tayO",
        "outputId": "2edd0abf-3344-48a3-e420-6f08500e5acc"
      },
      "execution_count": null,
      "outputs": [
        {
          "output_type": "stream",
          "name": "stdout",
          "text": [
            "313/313 [==============================] - 29s 91ms/step\n"
          ]
        },
        {
          "output_type": "execute_result",
          "data": {
            "text/plain": [
              "array([[7.4106559e-02, 4.1388761e-02, 7.4662536e-02, ..., 2.7139890e-03,\n",
              "        1.2088811e-01, 1.2894733e-02],\n",
              "       [1.2999491e-02, 6.5660290e-02, 2.8404983e-04, ..., 1.2066223e-04,\n",
              "        2.8086641e-01, 6.3965881e-01],\n",
              "       [2.8915805e-01, 8.5316204e-02, 1.7148637e-03, ..., 4.9742446e-03,\n",
              "        4.4786483e-01, 1.6708985e-01],\n",
              "       ...,\n",
              "       [2.9521899e-03, 8.2105675e-05, 1.7776006e-01, ..., 5.8499236e-02,\n",
              "        2.1794096e-02, 3.5011028e-03],\n",
              "       [1.0118003e-01, 3.4500111e-02, 1.7061195e-01, ..., 2.1921799e-02,\n",
              "        4.1962188e-02, 3.5615548e-02],\n",
              "       [5.7914287e-02, 6.6417181e-03, 5.2016180e-02, ..., 5.5094504e-01,\n",
              "        8.4964018e-03, 3.0101856e-02]], dtype=float32)"
            ]
          },
          "metadata": {},
          "execution_count": 126
        }
      ]
    },
    {
      "cell_type": "code",
      "source": [
        "simple_model.evaluate(test_x,test_y)"
      ],
      "metadata": {
        "colab": {
          "base_uri": "https://localhost:8080/"
        },
        "id": "M60XHZx8MrKY",
        "outputId": "e1c473dd-1fb6-4605-9934-2cc5f91bb7e6"
      },
      "execution_count": null,
      "outputs": [
        {
          "output_type": "stream",
          "name": "stdout",
          "text": [
            "313/313 [==============================] - 27s 84ms/step - loss: 1.3995 - accuracy: 0.5118\n"
          ]
        },
        {
          "output_type": "execute_result",
          "data": {
            "text/plain": [
              "[1.3995152711868286, 0.5117999911308289]"
            ]
          },
          "metadata": {},
          "execution_count": 127
        }
      ]
    },
    {
      "cell_type": "markdown",
      "source": [
        "# **Convolution Neural Network**"
      ],
      "metadata": {
        "id": "pMyyb39fsFQ4"
      }
    },
    {
      "cell_type": "code",
      "source": [],
      "metadata": {
        "id": "ez96yX80NyDY"
      },
      "execution_count": null,
      "outputs": []
    },
    {
      "cell_type": "code",
      "source": [
        "train_x_reshaped = x_train.reshape(len(x_train), img_rows, img_cols, channels)\n",
        "val_x_reshaped = x_val.reshape(len(x_val), img_rows, img_cols, channels)\n",
        "test_x_reshaped = test_x.reshape(len(test_x), img_rows, img_cols, channels)"
      ],
      "metadata": {
        "id": "TSkNDUPysb6e"
      },
      "execution_count": 14,
      "outputs": []
    },
    {
      "cell_type": "code",
      "source": [
        "from keras.layers import Conv2D, Flatten\n",
        "simple_cnn_model = Sequential()\n",
        "#---------------------------------------------------------------------------------------------------------------------s\n",
        "simple_cnn_model.add(Conv2D(32, (3,3), input_shape=(img_rows,img_cols,channels), activation='relu')) \n",
        "simple_cnn_model.add(Conv2D(32, (3,3), activation='relu'))\n",
        "simple_cnn_model.add(Conv2D(32, (3,3), activation='relu'))\n",
        "simple_cnn_model.add(Conv2D(32, (3,3), activation='relu'))\n",
        "simple_cnn_model.add(Conv2D(32, (3,3), activation='relu'))\n",
        "simple_cnn_model.add(Conv2D(32, (3,3), activation='relu'))\n",
        "\n",
        "simple_cnn_model.add(MaxPooling2D(pool_size=(2, 2)))\n",
        "simple_cnn_model.add(Dropout(0.25))\n",
        "simple_cnn_model.add(Flatten())\n",
        " \n",
        "simple_cnn_model.add(Dense(128, activation='relu'))\n",
        "simple_cnn_model.add(Dense(10, activation='softmax'))\n",
        "\n",
        "\n",
        "simple_cnn_model.compile(optimizer='adam', loss='categorical_crossentropy', metrics=['accuracy'])\n",
        "simple_cnn_model_history = simple_cnn_model.fit(train_x_reshaped, y_train, batch_size=10, epochs=35, validation_data=(val_x_reshaped, y_val))"
      ],
      "metadata": {
        "colab": {
          "base_uri": "https://localhost:8080/"
        },
        "id": "kMY4JaVosgrV",
        "outputId": "062eaa8e-4ac6-4c20-cdb6-2909ace2e734"
      },
      "execution_count": null,
      "outputs": [
        {
          "output_type": "stream",
          "name": "stdout",
          "text": [
            "Epoch 1/35\n",
            "4000/4000 [==============================] - 365s 91ms/step - loss: 1.6175 - accuracy: 0.4126 - val_loss: 1.3696 - val_accuracy: 0.5122\n",
            "Epoch 2/35\n",
            "4000/4000 [==============================] - 350s 88ms/step - loss: 1.3318 - accuracy: 0.5267 - val_loss: 1.3012 - val_accuracy: 0.5397\n",
            "Epoch 3/35\n",
            "4000/4000 [==============================] - 349s 87ms/step - loss: 1.1994 - accuracy: 0.5745 - val_loss: 1.2783 - val_accuracy: 0.5509\n",
            "Epoch 4/35\n",
            "4000/4000 [==============================] - 349s 87ms/step - loss: 1.1013 - accuracy: 0.6096 - val_loss: 1.1870 - val_accuracy: 0.5830\n",
            "Epoch 5/35\n",
            "4000/4000 [==============================] - 348s 87ms/step - loss: 1.0141 - accuracy: 0.6416 - val_loss: 1.1862 - val_accuracy: 0.5863\n",
            "Epoch 6/35\n",
            "4000/4000 [==============================] - 348s 87ms/step - loss: 0.9469 - accuracy: 0.6627 - val_loss: 1.2004 - val_accuracy: 0.5845\n",
            "Epoch 7/35\n",
            "4000/4000 [==============================] - 348s 87ms/step - loss: 0.8832 - accuracy: 0.6859 - val_loss: 1.2355 - val_accuracy: 0.5848\n",
            "Epoch 8/35\n",
            "4000/4000 [==============================] - 349s 87ms/step - loss: 0.8280 - accuracy: 0.7080 - val_loss: 1.1798 - val_accuracy: 0.6019\n",
            "Epoch 9/35\n",
            "4000/4000 [==============================] - 351s 88ms/step - loss: 0.7711 - accuracy: 0.7238 - val_loss: 1.2487 - val_accuracy: 0.5887\n",
            "Epoch 10/35\n",
            "4000/4000 [==============================] - 353s 88ms/step - loss: 0.7302 - accuracy: 0.7380 - val_loss: 1.3033 - val_accuracy: 0.5868\n",
            "Epoch 11/35\n",
            "4000/4000 [==============================] - 356s 89ms/step - loss: 0.6962 - accuracy: 0.7512 - val_loss: 1.3045 - val_accuracy: 0.5833\n",
            "Epoch 12/35\n",
            "4000/4000 [==============================] - 359s 90ms/step - loss: 0.6625 - accuracy: 0.7649 - val_loss: 1.3323 - val_accuracy: 0.5871\n",
            "Epoch 13/35\n",
            "4000/4000 [==============================] - 364s 91ms/step - loss: 0.6239 - accuracy: 0.7759 - val_loss: 1.4249 - val_accuracy: 0.5797\n",
            "Epoch 14/35\n",
            "4000/4000 [==============================] - 367s 92ms/step - loss: 0.5946 - accuracy: 0.7888 - val_loss: 1.4413 - val_accuracy: 0.5862\n",
            "Epoch 15/35\n",
            "4000/4000 [==============================] - 366s 92ms/step - loss: 0.5713 - accuracy: 0.7966 - val_loss: 1.4527 - val_accuracy: 0.5801\n",
            "Epoch 16/35\n",
            "4000/4000 [==============================] - 372s 93ms/step - loss: 0.5600 - accuracy: 0.8007 - val_loss: 1.4632 - val_accuracy: 0.5790\n",
            "Epoch 17/35\n",
            "4000/4000 [==============================] - 374s 94ms/step - loss: 0.5283 - accuracy: 0.8100 - val_loss: 1.5532 - val_accuracy: 0.5875\n",
            "Epoch 18/35\n",
            "4000/4000 [==============================] - 381s 95ms/step - loss: 0.5067 - accuracy: 0.8183 - val_loss: 1.5520 - val_accuracy: 0.5699\n",
            "Epoch 19/35\n",
            "4000/4000 [==============================] - 379s 95ms/step - loss: 0.4933 - accuracy: 0.8246 - val_loss: 1.5912 - val_accuracy: 0.5802\n",
            "Epoch 20/35\n",
            "4000/4000 [==============================] - 379s 95ms/step - loss: 0.4869 - accuracy: 0.8249 - val_loss: 1.6078 - val_accuracy: 0.5811\n",
            "Epoch 21/35\n",
            "4000/4000 [==============================] - 379s 95ms/step - loss: 0.4712 - accuracy: 0.8321 - val_loss: 1.6357 - val_accuracy: 0.5754\n",
            "Epoch 22/35\n",
            "4000/4000 [==============================] - 382s 95ms/step - loss: 0.4613 - accuracy: 0.8360 - val_loss: 1.6599 - val_accuracy: 0.5771\n",
            "Epoch 23/35\n",
            "4000/4000 [==============================] - 379s 95ms/step - loss: 0.4498 - accuracy: 0.8395 - val_loss: 1.6805 - val_accuracy: 0.5771\n",
            "Epoch 24/35\n",
            "4000/4000 [==============================] - 387s 97ms/step - loss: 0.4375 - accuracy: 0.8448 - val_loss: 1.6843 - val_accuracy: 0.5789\n",
            "Epoch 25/35\n",
            "4000/4000 [==============================] - 393s 98ms/step - loss: 0.4269 - accuracy: 0.8498 - val_loss: 1.6358 - val_accuracy: 0.5836\n",
            "Epoch 26/35\n",
            "4000/4000 [==============================] - 388s 97ms/step - loss: 0.4241 - accuracy: 0.8501 - val_loss: 1.6793 - val_accuracy: 0.5783\n",
            "Epoch 27/35\n",
            "4000/4000 [==============================] - 392s 98ms/step - loss: 0.4065 - accuracy: 0.8572 - val_loss: 1.8531 - val_accuracy: 0.5675\n",
            "Epoch 28/35\n",
            "4000/4000 [==============================] - 390s 98ms/step - loss: 0.4047 - accuracy: 0.8580 - val_loss: 1.7796 - val_accuracy: 0.5711\n",
            "Epoch 29/35\n",
            "4000/4000 [==============================] - 388s 97ms/step - loss: 0.4036 - accuracy: 0.8578 - val_loss: 1.7817 - val_accuracy: 0.5707\n",
            "Epoch 30/35\n",
            "4000/4000 [==============================] - 395s 99ms/step - loss: 0.3934 - accuracy: 0.8627 - val_loss: 1.7934 - val_accuracy: 0.5759\n",
            "Epoch 31/35\n",
            "4000/4000 [==============================] - 396s 99ms/step - loss: 0.3873 - accuracy: 0.8651 - val_loss: 1.7727 - val_accuracy: 0.5749\n",
            "Epoch 32/35\n",
            "4000/4000 [==============================] - 397s 99ms/step - loss: 0.3856 - accuracy: 0.8651 - val_loss: 1.8182 - val_accuracy: 0.5724\n",
            "Epoch 33/35\n",
            "4000/4000 [==============================] - 394s 98ms/step - loss: 0.3847 - accuracy: 0.8682 - val_loss: 1.7846 - val_accuracy: 0.5683\n",
            "Epoch 34/35\n",
            "4000/4000 [==============================] - 396s 99ms/step - loss: 0.3741 - accuracy: 0.8716 - val_loss: 1.7840 - val_accuracy: 0.5673\n",
            "Epoch 35/35\n",
            "4000/4000 [==============================] - 401s 100ms/step - loss: 0.3673 - accuracy: 0.8717 - val_loss: 1.8557 - val_accuracy: 0.5707\n"
          ]
        }
      ]
    },
    {
      "cell_type": "code",
      "source": [
        "import matplotlib.pyplot as plt\n",
        "def plot_history(history, title):\n",
        "    plt.figure(figsize=(10,3))\n",
        "    # Plot training & validation accuracy values\n",
        "    plt.subplot(121)\n",
        "    plt.plot(history.history['accuracy'])\n",
        "    plt.plot(history.history['val_accuracy'])\n",
        "    plt.title('Model accuracy')\n",
        "    plt.ylabel('Accuracy')\n",
        "    plt.xlabel('Epoch')\n",
        "    plt.legend(['Train', 'Validation'], loc='upper left')\n",
        "\n",
        "    # Plot training & validation loss values\n",
        "    plt.subplot(122)\n",
        "    plt.plot(history.history['loss'])\n",
        "    plt.plot(history.history['val_loss'])\n",
        "    plt.title('Model loss')\n",
        "    plt.ylabel('Loss')\n",
        "    plt.xlabel('Epoch')\n",
        "    plt.legend(['Train', 'Validation'], loc='upper left')\n",
        "    plt.show()"
      ],
      "metadata": {
        "id": "MvZZLKcttzkN"
      },
      "execution_count": null,
      "outputs": []
    },
    {
      "cell_type": "code",
      "source": [
        "plot_history(simple_cnn_model_history, 'CNN with batch size=50 epochs=15 ')"
      ],
      "metadata": {
        "colab": {
          "base_uri": "https://localhost:8080/",
          "height": 241
        },
        "id": "kyEE_sxbB3jv",
        "outputId": "8c11944a-134c-44fd-c46b-3b67b2cd5ab9"
      },
      "execution_count": null,
      "outputs": [
        {
          "output_type": "display_data",
          "data": {
            "text/plain": [
              "<Figure size 720x216 with 2 Axes>"
            ],
            "image/png": "[encoded data removed]"
          },
          "metadata": {
            "needs_background": "light"
          }
        }
      ]
    },
    {
      "cell_type": "code",
      "source": [
        "simple_cnn_model.evaluate(test_x_reshaped,test_y)"
      ],
      "metadata": {
        "colab": {
          "base_uri": "https://localhost:8080/"
        },
        "id": "IYA5fAVKB4Gh",
        "outputId": "9fba6419-ee01-4d8f-e9d4-414ad1971d3a"
      },
      "execution_count": null,
      "outputs": [
        {
          "output_type": "stream",
          "name": "stdout",
          "text": [
            "313/313 [==============================] - 21s 65ms/step - loss: 1.8130 - accuracy: 0.5765\n"
          ]
        },
        {
          "output_type": "execute_result",
          "data": {
            "text/plain": [
              "[1.8129781484603882, 0.5764999985694885]"
            ]
          },
          "metadata": {},
          "execution_count": 18
        }
      ]
    },
    {
      "cell_type": "code",
      "source": [
        "from keras.layers import Conv2D, Flatten\n",
        "simple_cnn_model = Sequential()\n",
        "#---------------------------------------------------------------------------------------------------------------------s\n",
        "simple_cnn_model.add(Conv2D(64, (3,3), input_shape=(img_rows,img_cols,channels), activation='relu')) \n",
        "simple_cnn_model.add(MaxPooling2D(pool_size=(2, 2)))\n",
        "\n",
        "simple_cnn_model.add(Conv2D(32, (3,3), activation='relu'))\n",
        "simple_cnn_model.add(MaxPooling2D(pool_size=(2, 2)))\n",
        "# simple_cnn_model.add(Conv2D(32, (3,3), activation='relu'))\n",
        "# simple_cnn_model.add(Conv2D(32, (3,3), activation='relu'))\n",
        "# simple_cnn_model.add(Conv2D(32, (3,3), activation='relu'))\n",
        "# simple_cnn_model.add(Conv2D(32, (3,3), activation='relu'))\n",
        "\n",
        "# simple_cnn_model.add(MaxPooling2D(pool_size=(2, 2)))\n",
        "# simple_cnn_model.add(Dropout(0.25))\n",
        "simple_cnn_model.add(Flatten())\n",
        "\n",
        "# simple_cnn_model.add(Dense(128, activation='relu'))\n",
        "simple_cnn_model.add(Dense(64, activation='relu'))\n",
        "simple_cnn_model.add(Dense(32, activation='relu'))\n",
        "simple_cnn_model.add(Dense(10, activation='softmax'))\n",
        "\n",
        "\n",
        "simple_cnn_model.compile(optimizer='adam', loss='categorical_crossentropy', metrics=['accuracy'])\n",
        "simple_cnn_model_history = simple_cnn_model.fit(train_x_reshaped, y_train, batch_size=100, epochs=50, validation_data=(val_x_reshaped, y_val))"
      ],
      "metadata": {
        "id": "U0TsifwdCH32",
        "colab": {
          "base_uri": "https://localhost:8080/"
        },
        "outputId": "5e3dcabc-0336-4841-8149-d34c7f56ab69"
      },
      "execution_count": 24,
      "outputs": [
        {
          "output_type": "stream",
          "name": "stdout",
          "text": [
            "Epoch 1/50\n",
            "400/400 [==============================] - 71s 176ms/step - loss: 1.8368 - accuracy: 0.3276 - val_loss: 1.5980 - val_accuracy: 0.4303\n",
            "Epoch 2/50\n",
            "400/400 [==============================] - 70s 176ms/step - loss: 1.5239 - accuracy: 0.4559 - val_loss: 1.4552 - val_accuracy: 0.4860\n",
            "Epoch 3/50\n",
            "400/400 [==============================] - 70s 176ms/step - loss: 1.3909 - accuracy: 0.5070 - val_loss: 1.3439 - val_accuracy: 0.5180\n",
            "Epoch 4/50\n",
            "400/400 [==============================] - 70s 175ms/step - loss: 1.3005 - accuracy: 0.5446 - val_loss: 1.3258 - val_accuracy: 0.5359\n",
            "Epoch 5/50\n",
            "400/400 [==============================] - 70s 175ms/step - loss: 1.2476 - accuracy: 0.5579 - val_loss: 1.2465 - val_accuracy: 0.5603\n",
            "Epoch 6/50\n",
            "400/400 [==============================] - 70s 175ms/step - loss: 1.1961 - accuracy: 0.5813 - val_loss: 1.2184 - val_accuracy: 0.5678\n",
            "Epoch 7/50\n",
            "400/400 [==============================] - 70s 176ms/step - loss: 1.1542 - accuracy: 0.5946 - val_loss: 1.2093 - val_accuracy: 0.5702\n",
            "Epoch 8/50\n",
            "400/400 [==============================] - 71s 176ms/step - loss: 1.1243 - accuracy: 0.6054 - val_loss: 1.1710 - val_accuracy: 0.5871\n",
            "Epoch 9/50\n",
            "400/400 [==============================] - 70s 175ms/step - loss: 1.0885 - accuracy: 0.6172 - val_loss: 1.2362 - val_accuracy: 0.5691\n",
            "Epoch 10/50\n",
            "400/400 [==============================] - 70s 175ms/step - loss: 1.0638 - accuracy: 0.6257 - val_loss: 1.1561 - val_accuracy: 0.5914\n",
            "Epoch 11/50\n",
            "400/400 [==============================] - 70s 175ms/step - loss: 1.0353 - accuracy: 0.6358 - val_loss: 1.1595 - val_accuracy: 0.5914\n",
            "Epoch 12/50\n",
            "400/400 [==============================] - 70s 174ms/step - loss: 1.0208 - accuracy: 0.6423 - val_loss: 1.1363 - val_accuracy: 0.5983\n",
            "Epoch 13/50\n",
            "400/400 [==============================] - 70s 174ms/step - loss: 0.9934 - accuracy: 0.6529 - val_loss: 1.1368 - val_accuracy: 0.6106\n",
            "Epoch 14/50\n",
            "400/400 [==============================] - 70s 175ms/step - loss: 0.9717 - accuracy: 0.6582 - val_loss: 1.1050 - val_accuracy: 0.6216\n",
            "Epoch 15/50\n",
            "400/400 [==============================] - 70s 174ms/step - loss: 0.9577 - accuracy: 0.6646 - val_loss: 1.1077 - val_accuracy: 0.6192\n",
            "Epoch 16/50\n",
            "400/400 [==============================] - 69s 173ms/step - loss: 0.9334 - accuracy: 0.6725 - val_loss: 1.1524 - val_accuracy: 0.6044\n",
            "Epoch 17/50\n",
            "400/400 [==============================] - 69s 173ms/step - loss: 0.9184 - accuracy: 0.6775 - val_loss: 1.1381 - val_accuracy: 0.6102\n",
            "Epoch 18/50\n",
            "400/400 [==============================] - 69s 173ms/step - loss: 0.9017 - accuracy: 0.6830 - val_loss: 1.1213 - val_accuracy: 0.6176\n",
            "Epoch 19/50\n",
            "400/400 [==============================] - 69s 173ms/step - loss: 0.8878 - accuracy: 0.6880 - val_loss: 1.1098 - val_accuracy: 0.6231\n",
            "Epoch 20/50\n",
            "400/400 [==============================] - 69s 172ms/step - loss: 0.8656 - accuracy: 0.6946 - val_loss: 1.1097 - val_accuracy: 0.6244\n",
            "Epoch 21/50\n",
            "400/400 [==============================] - 69s 172ms/step - loss: 0.8519 - accuracy: 0.7016 - val_loss: 1.1051 - val_accuracy: 0.6226\n",
            "Epoch 22/50\n",
            "400/400 [==============================] - 69s 172ms/step - loss: 0.8415 - accuracy: 0.7040 - val_loss: 1.1247 - val_accuracy: 0.6235\n",
            "Epoch 23/50\n",
            "400/400 [==============================] - 69s 172ms/step - loss: 0.8227 - accuracy: 0.7117 - val_loss: 1.1289 - val_accuracy: 0.6248\n",
            "Epoch 24/50\n",
            "400/400 [==============================] - 69s 172ms/step - loss: 0.8112 - accuracy: 0.7140 - val_loss: 1.1660 - val_accuracy: 0.6166\n",
            "Epoch 25/50\n",
            "400/400 [==============================] - 69s 174ms/step - loss: 0.7940 - accuracy: 0.7214 - val_loss: 1.1222 - val_accuracy: 0.6274\n",
            "Epoch 26/50\n",
            "400/400 [==============================] - 69s 172ms/step - loss: 0.7821 - accuracy: 0.7237 - val_loss: 1.1336 - val_accuracy: 0.6173\n",
            "Epoch 27/50\n",
            "400/400 [==============================] - 69s 172ms/step - loss: 0.7676 - accuracy: 0.7307 - val_loss: 1.1527 - val_accuracy: 0.6194\n",
            "Epoch 28/50\n",
            "400/400 [==============================] - 69s 171ms/step - loss: 0.7625 - accuracy: 0.7311 - val_loss: 1.1550 - val_accuracy: 0.6177\n",
            "Epoch 29/50\n",
            "400/400 [==============================] - 69s 172ms/step - loss: 0.7488 - accuracy: 0.7350 - val_loss: 1.1552 - val_accuracy: 0.6221\n",
            "Epoch 30/50\n",
            "400/400 [==============================] - 69s 172ms/step - loss: 0.7356 - accuracy: 0.7412 - val_loss: 1.1365 - val_accuracy: 0.6229\n",
            "Epoch 31/50\n",
            "400/400 [==============================] - 69s 172ms/step - loss: 0.7220 - accuracy: 0.7459 - val_loss: 1.1774 - val_accuracy: 0.6167\n",
            "Epoch 32/50\n",
            "400/400 [==============================] - 68s 171ms/step - loss: 0.7113 - accuracy: 0.7481 - val_loss: 1.1811 - val_accuracy: 0.6275\n",
            "Epoch 33/50\n",
            "400/400 [==============================] - 69s 172ms/step - loss: 0.6981 - accuracy: 0.7521 - val_loss: 1.2442 - val_accuracy: 0.6057\n",
            "Epoch 34/50\n",
            "400/400 [==============================] - 68s 171ms/step - loss: 0.6811 - accuracy: 0.7620 - val_loss: 1.2262 - val_accuracy: 0.6156\n",
            "Epoch 35/50\n",
            "400/400 [==============================] - 69s 171ms/step - loss: 0.6767 - accuracy: 0.7641 - val_loss: 1.2271 - val_accuracy: 0.6046\n",
            "Epoch 36/50\n",
            "400/400 [==============================] - 68s 171ms/step - loss: 0.6659 - accuracy: 0.7654 - val_loss: 1.1907 - val_accuracy: 0.6204\n",
            "Epoch 37/50\n",
            "400/400 [==============================] - 68s 171ms/step - loss: 0.6529 - accuracy: 0.7698 - val_loss: 1.2515 - val_accuracy: 0.6163\n",
            "Epoch 38/50\n",
            "400/400 [==============================] - 68s 171ms/step - loss: 0.6378 - accuracy: 0.7743 - val_loss: 1.2295 - val_accuracy: 0.6172\n",
            "Epoch 39/50\n",
            "400/400 [==============================] - 69s 172ms/step - loss: 0.6354 - accuracy: 0.7738 - val_loss: 1.2713 - val_accuracy: 0.6088\n",
            "Epoch 40/50\n",
            "400/400 [==============================] - 69s 172ms/step - loss: 0.6187 - accuracy: 0.7829 - val_loss: 1.2762 - val_accuracy: 0.6193\n",
            "Epoch 41/50\n",
            "400/400 [==============================] - 69s 172ms/step - loss: 0.6090 - accuracy: 0.7847 - val_loss: 1.2767 - val_accuracy: 0.6179\n",
            "Epoch 42/50\n",
            "400/400 [==============================] - 69s 171ms/step - loss: 0.6008 - accuracy: 0.7863 - val_loss: 1.3144 - val_accuracy: 0.6109\n",
            "Epoch 43/50\n",
            "400/400 [==============================] - 68s 171ms/step - loss: 0.5811 - accuracy: 0.7946 - val_loss: 1.3313 - val_accuracy: 0.5991\n",
            "Epoch 44/50\n",
            "400/400 [==============================] - 68s 171ms/step - loss: 0.5786 - accuracy: 0.7944 - val_loss: 1.3147 - val_accuracy: 0.6128\n",
            "Epoch 45/50\n",
            "400/400 [==============================] - 68s 171ms/step - loss: 0.5699 - accuracy: 0.7980 - val_loss: 1.3184 - val_accuracy: 0.6146\n",
            "Epoch 46/50\n",
            "400/400 [==============================] - 68s 170ms/step - loss: 0.5596 - accuracy: 0.8024 - val_loss: 1.3669 - val_accuracy: 0.6069\n",
            "Epoch 47/50\n",
            "400/400 [==============================] - 68s 171ms/step - loss: 0.5466 - accuracy: 0.8080 - val_loss: 1.3995 - val_accuracy: 0.6045\n",
            "Epoch 48/50\n",
            "400/400 [==============================] - 68s 171ms/step - loss: 0.5403 - accuracy: 0.8082 - val_loss: 1.4202 - val_accuracy: 0.6039\n",
            "Epoch 49/50\n",
            "400/400 [==============================] - 69s 171ms/step - loss: 0.5265 - accuracy: 0.8147 - val_loss: 1.4040 - val_accuracy: 0.6034\n",
            "Epoch 50/50\n",
            "400/400 [==============================] - 68s 171ms/step - loss: 0.5222 - accuracy: 0.8155 - val_loss: 1.5078 - val_accuracy: 0.5920\n"
          ]
        }
      ]
    },
    {
      "cell_type": "code",
      "source": [
        "simple_cnn_model.evaluate(test_x_reshaped,test_y)"
      ],
      "metadata": {
        "colab": {
          "base_uri": "https://localhost:8080/"
        },
        "id": "gpH55q-RI4lA",
        "outputId": "a76a004d-b25a-405d-df3d-395d4e24a67d"
      },
      "execution_count": 25,
      "outputs": [
        {
          "output_type": "stream",
          "name": "stdout",
          "text": [
            "313/313 [==============================] - 5s 16ms/step - loss: 1.5087 - accuracy: 0.5980\n"
          ]
        },
        {
          "output_type": "execute_result",
          "data": {
            "text/plain": [
              "[1.508664608001709, 0.5979999899864197]"
            ]
          },
          "metadata": {},
          "execution_count": 25
        }
      ]
    },
    {
      "cell_type": "markdown",
      "source": [
        "# **Technique 2**"
      ],
      "metadata": {
        "id": "j0JfHHudmX4a"
      }
    },
    {
      "cell_type": "code",
      "source": [
        "num_classes = 10\n",
        "Total_train_x = np.concatenate( [train_batch_2[b'data'], train_batch_3[b'data'], train_batch_4[b'data'], train_batch_5[b'data']])\n",
        "Total_train_x = Total_train_x.astype('float32') # this is necessary for the division below\n",
        "Total_train_x /= 255\n",
        "Total_train_y = np.concatenate([np_utils.to_categorical(labels, num_classes) for labels in [ train_batch_2[b'labels'], train_batch_3[b'labels'], train_batch_4[b'labels'], train_batch_5[b'labels']]])"
      ],
      "metadata": {
        "id": "iV_PsmH0mXAH"
      },
      "execution_count": 26,
      "outputs": []
    },
    {
      "cell_type": "code",
      "source": [
        "x_val = np.concatenate([train_batch_1[b'data']])\n",
        "x_val = x_val.astype('float32')\n",
        "x_val /= 255 \n",
        "x_val.shape\n",
        "\n",
        "y_val = np_utils.to_categorical(train_batch_1[b'labels'], num_classes)\n",
        "# y_val"
      ],
      "metadata": {
        "id": "rC2eWeGlmiKy"
      },
      "execution_count": 27,
      "outputs": []
    },
    {
      "cell_type": "code",
      "source": [
        "test_x = test_batch[b'data'].astype('float32') / 255\n",
        "test_y = np_utils.to_categorical(test_batch[b'labels'], num_classes)"
      ],
      "metadata": {
        "id": "WAcf_s1umoZN"
      },
      "execution_count": 28,
      "outputs": []
    },
    {
      "cell_type": "code",
      "source": [
        "train_x_reshaped = x_train.reshape(len(x_train), img_rows, img_cols, channels)\n",
        "val_x_reshaped = x_val.reshape(len(x_val), img_rows, img_cols, channels)\n",
        "test_x_reshaped = test_x.reshape(len(test_x), img_rows, img_cols, channels)"
      ],
      "metadata": {
        "id": "84m1xbGQmyC1"
      },
      "execution_count": 29,
      "outputs": []
    },
    {
      "cell_type": "code",
      "source": [
        "img_rows = img_cols = 32\n",
        "channels = 3"
      ],
      "metadata": {
        "id": "6hZr2dPCmsvk"
      },
      "execution_count": 30,
      "outputs": []
    },
    {
      "cell_type": "code",
      "source": [
        "from keras.layers import Conv2D, Flatten\n",
        "simple_cnn_model = Sequential()\n",
        "#---------------------------------------------------------------------------------------------------------------------s\n",
        "simple_cnn_model.add(Conv2D(32, (3,3), input_shape=(img_rows,img_cols,channels), activation='relu')) \n",
        "simple_cnn_model.add(Conv2D(32, (3,3), activation='relu'))\n",
        "simple_cnn_model.add(Conv2D(32, (3,3), activation='relu'))\n",
        "simple_cnn_model.add(Conv2D(32, (3,3), activation='relu'))\n",
        "simple_cnn_model.add(Conv2D(32, (3,3), activation='relu'))\n",
        "simple_cnn_model.add(Conv2D(32, (3,3), activation='relu'))\n",
        "\n",
        "simple_cnn_model.add(MaxPooling2D(pool_size=(2, 2)))\n",
        "simple_cnn_model.add(Dropout(0.25))\n",
        "simple_cnn_model.add(Flatten())\n",
        " \n",
        "simple_cnn_model.add(Dense(128, activation='relu'))\n",
        "simple_cnn_model.add(Dense(10, activation='softmax'))\n",
        "\n",
        "\n",
        "simple_cnn_model.compile(optimizer='adam', loss='categorical_crossentropy', metrics=['accuracy'])\n",
        "simple_cnn_model_history = simple_cnn_model.fit(train_x_reshaped, y_train, batch_size=50, epochs=25, validation_data=(val_x_reshaped, y_val))"
      ],
      "metadata": {
        "colab": {
          "base_uri": "https://localhost:8080/"
        },
        "id": "d26LUFmWmtZi",
        "outputId": "0d5f93c5-c88d-4419-cdc4-992c80e1b953"
      },
      "execution_count": 32,
      "outputs": [
        {
          "output_type": "stream",
          "name": "stdout",
          "text": [
            "Epoch 1/25\n",
            "800/800 [==============================] - 311s 388ms/step - loss: 1.6625 - accuracy: 0.4031 - val_loss: 1.3939 - val_accuracy: 0.4990\n",
            "Epoch 2/25\n",
            "800/800 [==============================] - 310s 387ms/step - loss: 1.3578 - accuracy: 0.5167 - val_loss: 1.2131 - val_accuracy: 0.5676\n",
            "Epoch 3/25\n",
            "800/800 [==============================] - 302s 377ms/step - loss: 1.2141 - accuracy: 0.5739 - val_loss: 1.0569 - val_accuracy: 0.6334\n",
            "Epoch 4/25\n",
            "800/800 [==============================] - 295s 368ms/step - loss: 1.1144 - accuracy: 0.6086 - val_loss: 0.9936 - val_accuracy: 0.6530\n",
            "Epoch 5/25\n",
            "800/800 [==============================] - 296s 370ms/step - loss: 1.0267 - accuracy: 0.6380 - val_loss: 0.8924 - val_accuracy: 0.6878\n",
            "Epoch 6/25\n",
            "800/800 [==============================] - 297s 371ms/step - loss: 0.9543 - accuracy: 0.6637 - val_loss: 0.8210 - val_accuracy: 0.7155\n",
            "Epoch 7/25\n",
            "800/800 [==============================] - 297s 371ms/step - loss: 0.8824 - accuracy: 0.6868 - val_loss: 0.7692 - val_accuracy: 0.7393\n",
            "Epoch 8/25\n",
            "800/800 [==============================] - 298s 372ms/step - loss: 0.8231 - accuracy: 0.7097 - val_loss: 0.7093 - val_accuracy: 0.7527\n",
            "Epoch 9/25\n",
            "800/800 [==============================] - 297s 371ms/step - loss: 0.7647 - accuracy: 0.7283 - val_loss: 0.6575 - val_accuracy: 0.7796\n",
            "Epoch 10/25\n",
            "800/800 [==============================] - 297s 372ms/step - loss: 0.7116 - accuracy: 0.7484 - val_loss: 0.6005 - val_accuracy: 0.8000\n",
            "Epoch 11/25\n",
            "800/800 [==============================] - 297s 371ms/step - loss: 0.6552 - accuracy: 0.7671 - val_loss: 0.5822 - val_accuracy: 0.8133\n",
            "Epoch 12/25\n",
            "800/800 [==============================] - 296s 371ms/step - loss: 0.6130 - accuracy: 0.7808 - val_loss: 0.5384 - val_accuracy: 0.8271\n",
            "Epoch 13/25\n",
            "800/800 [==============================] - 297s 371ms/step - loss: 0.5715 - accuracy: 0.7967 - val_loss: 0.5197 - val_accuracy: 0.8384\n",
            "Epoch 14/25\n",
            "800/800 [==============================] - 297s 371ms/step - loss: 0.5284 - accuracy: 0.8104 - val_loss: 0.4670 - val_accuracy: 0.8569\n",
            "Epoch 15/25\n",
            "800/800 [==============================] - 297s 371ms/step - loss: 0.4972 - accuracy: 0.8213 - val_loss: 0.4772 - val_accuracy: 0.8567\n",
            "Epoch 16/25\n",
            "800/800 [==============================] - 298s 373ms/step - loss: 0.4742 - accuracy: 0.8286 - val_loss: 0.4667 - val_accuracy: 0.8626\n",
            "Epoch 17/25\n",
            "800/800 [==============================] - 302s 377ms/step - loss: 0.4544 - accuracy: 0.8367 - val_loss: 0.4545 - val_accuracy: 0.8681\n",
            "Epoch 18/25\n",
            "800/800 [==============================] - 304s 380ms/step - loss: 0.4218 - accuracy: 0.8473 - val_loss: 0.4435 - val_accuracy: 0.8723\n",
            "Epoch 19/25\n",
            "800/800 [==============================] - 300s 375ms/step - loss: 0.4098 - accuracy: 0.8515 - val_loss: 0.4421 - val_accuracy: 0.8780\n",
            "Epoch 20/25\n",
            "800/800 [==============================] - 301s 377ms/step - loss: 0.3870 - accuracy: 0.8609 - val_loss: 0.4354 - val_accuracy: 0.8782\n",
            "Epoch 21/25\n",
            "800/800 [==============================] - 300s 375ms/step - loss: 0.3739 - accuracy: 0.8642 - val_loss: 0.4746 - val_accuracy: 0.8728\n",
            "Epoch 22/25\n",
            "800/800 [==============================] - 299s 374ms/step - loss: 0.3573 - accuracy: 0.8711 - val_loss: 0.4483 - val_accuracy: 0.8794\n",
            "Epoch 23/25\n",
            "800/800 [==============================] - 304s 380ms/step - loss: 0.3458 - accuracy: 0.8745 - val_loss: 0.4334 - val_accuracy: 0.8878\n",
            "Epoch 24/25\n",
            "800/800 [==============================] - 302s 377ms/step - loss: 0.3361 - accuracy: 0.8785 - val_loss: 0.4040 - val_accuracy: 0.8964\n",
            "Epoch 25/25\n",
            "800/800 [==============================] - 312s 390ms/step - loss: 0.3258 - accuracy: 0.8835 - val_loss: 0.4253 - val_accuracy: 0.8903\n"
          ]
        }
      ]
    },
    {
      "cell_type": "code",
      "source": [
        "simple_cnn_model.evaluate(test_x_reshaped,test_y)\n"
      ],
      "metadata": {
        "colab": {
          "base_uri": "https://localhost:8080/"
        },
        "id": "RT8lhPeinTz-",
        "outputId": "fea91fdb-8858-4fa7-9b15-96110171b51d"
      },
      "execution_count": 36,
      "outputs": [
        {
          "output_type": "stream",
          "name": "stdout",
          "text": [
            "313/313 [==============================] - 19s 61ms/step - loss: 0.4253 - accuracy: 0.8903\n"
          ]
        },
        {
          "output_type": "execute_result",
          "data": {
            "text/plain": [
              "[0.425336092710495, 0.8902999758720398]"
            ]
          },
          "metadata": {},
          "execution_count": 36
        }
      ]
    },
    {
      "cell_type": "code",
      "source": [
        "import matplotlib.pyplot as plt\n",
        "def plot_history(history, title):\n",
        "    plt.figure(figsize=(10,3))\n",
        "    # Plot training & validation accuracy values\n",
        "    plt.subplot(121)\n",
        "    plt.plot(history.history['accuracy'])\n",
        "    plt.plot(history.history['val_accuracy'])\n",
        "    plt.title('Model accuracy')\n",
        "    plt.ylabel('Accuracy')\n",
        "    plt.xlabel('Epoch')\n",
        "    plt.legend(['Train', 'Validation'], loc='upper left')\n",
        "\n",
        "    # Plot training & validation loss values\n",
        "    plt.subplot(122)\n",
        "    plt.plot(history.history['loss'])\n",
        "    plt.plot(history.history['val_loss'])\n",
        "    plt.title('Model loss')\n",
        "    plt.ylabel('Loss')\n",
        "    plt.xlabel('Epoch')\n",
        "    plt.legend(['Train', 'Validation'], loc='upper left')\n",
        "    plt.show()"
      ],
      "metadata": {
        "id": "IMdqKfhv0DwO"
      },
      "execution_count": 37,
      "outputs": []
    },
    {
      "cell_type": "code",
      "source": [
        "plot_history(simple_cnn_model_history, 'CNN with batch size=50 epochs=15 ')"
      ],
      "metadata": {
        "colab": {
          "base_uri": "https://localhost:8080/",
          "height": 241
        },
        "id": "klorZL6X0Ram",
        "outputId": "2f29a8c2-a90a-4337-d05b-d92198bb1aa0"
      },
      "execution_count": 38,
      "outputs": [
        {
          "output_type": "display_data",
          "data": {
            "text/plain": [
              "<Figure size 720x216 with 2 Axes>"
            ],
            "image/png": "[encoded data removed]"
          },
          "metadata": {
            "needs_background": "light"
          }
        }
      ]
    },
    {
      "cell_type": "markdown",
      "source": [
        "# **Time Taken** by model to train = 7528 sec = 125 mins\n",
        "# 301 sec => avg time of each epoch"
      ],
      "metadata": {
        "id": "xCH21WmBSqZ0"
      }
    },
    {
      "cell_type": "code",
      "source": [],
      "metadata": {
        "id": "OGuxHUtn0SbC"
      },
      "execution_count": null,
      "outputs": []
    },
    {
      "cell_type": "markdown",
      "source": [
        "# **Analysis**"
      ],
      "metadata": {
        "id": "iHh1E5YsSgEL"
      }
    },
    {
      "cell_type": "markdown",
      "source": [
        "# Hence, it is evidenet that convolution neural network performed well with the CiFAR-10 dataet."
      ],
      "metadata": {
        "id": "5nWYWf6_Tsx8"
      }
    },
    {
      "cell_type": "markdown",
      "source": [
        "# And in case of time taken CNN took almost double as time taken by ANN to train the model."
      ],
      "metadata": {
        "id": "zAFxJDOAUSs3"
      }
    }
  ],
  "metadata": {
    "colab": {
      "collapsed_sections": [],
      "provenance": []
    },
    "kernelspec": {
      "display_name": "Python 3",
      "name": "python3"
    },
    "language_info": {
      "name": "python"
    }
  },
  "nbformat": 4,
  "nbformat_minor": 0
}